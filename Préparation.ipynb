{
 "cells": [
  {
   "cell_type": "code",
   "execution_count": 1,
   "id": "fd949b8d-59e4-453e-b9be-5752073a058c",
   "metadata": {},
   "outputs": [],
   "source": [
    "import pandas as pd\n",
    "import time"
   ]
  },
  {
   "cell_type": "code",
   "execution_count": 2,
   "id": "6952308e-b829-4d6a-b25b-9981de41e6ba",
   "metadata": {},
   "outputs": [
    {
     "name": "stdout",
     "output_type": "stream",
     "text": [
      "209.31698083877563\n"
     ]
    }
   ],
   "source": [
    "t1 = time.time()\n",
    "for i in range(2019, 2022) :\n",
    "    \n",
    "    caracteristiques1 = 'caracteristiques-' + str(i) + '.csv'\n",
    "    lieux1 = 'lieux-' + str(i) + '.csv'\n",
    "    usagers1 = 'usagers-' + str(i) + '.csv'\n",
    "    vehicules1 = 'vehicules-' + str(i) + '.csv'\n",
    "\n",
    "    caracteristiques = pd.read_csv(caracteristiques1 , sep=\";\")\n",
    "    lieux = pd.read_csv(lieux1, sep=\";\")\n",
    "    usagers = pd.read_csv(usagers1, sep=\";\")\n",
    "    vehicules = pd.read_csv(vehicules1, sep=\";\")\n",
    "        \n",
    "\n",
    "    df1 = caracteristiques.merge(lieux, how = 'outer')\n",
    "\n",
    "    df2 = usagers.merge(vehicules, how = 'outer')\n",
    "\n",
    "    df2 = df2.groupby('Num_Acc', group_keys=False).apply(lambda x: x.loc[x.grav.idxmax()])\n",
    "\n",
    "    df2 = df2.reset_index(drop=True)\n",
    "\n",
    "    df_final = df1.merge(df2, how = 'outer')\n",
    "    \n",
    "    if i == 2019 :\n",
    "        df_inter = df_final.copy()\n",
    "    else : \n",
    "        df = pd.concat([df_final , df_inter], ignore_index = True) \n",
    "        if i !=2021 :\n",
    "            df_inter = df.copy()   \n",
    "t2 = time.time()\n",
    "print(t2-t1)"
   ]
  },
  {
   "cell_type": "code",
   "execution_count": 3,
   "id": "be09570d-ac35-46dc-aaaf-99c51f44e99d",
   "metadata": {},
   "outputs": [
    {
     "data": {
      "text/plain": [
       "(163102, 54)"
      ]
     },
     "execution_count": 3,
     "metadata": {},
     "output_type": "execute_result"
    }
   ],
   "source": [
    "df.shape"
   ]
  },
  {
   "cell_type": "markdown",
   "id": "f92254c9-faed-49f7-9954-328144e32626",
   "metadata": {},
   "source": [
    "#### On retire les départements d'outre mer et on concentre sur la france metropolitaine pour le reste de travail"
   ]
  },
  {
   "cell_type": "code",
   "execution_count": 4,
   "id": "577c7534-9f2e-49cf-ad39-d74b0823c33c",
   "metadata": {},
   "outputs": [
    {
     "data": {
      "text/plain": [
       "(154677, 54)"
      ]
     },
     "execution_count": 4,
     "metadata": {},
     "output_type": "execute_result"
    }
   ],
   "source": [
    "list_outre_mer = [ '971','972','973','974','975','976','977','978','986','987','988']\n",
    "    \n",
    "for i in list_outre_mer :\n",
    "    df.drop( df[ df['dep'] == i ].index, inplace=True)\n",
    "    \n",
    "df.shape"
   ]
  },
  {
   "cell_type": "markdown",
   "id": "f2b2a4c4-e2fe-4392-8cb3-ba2ec6803e46",
   "metadata": {},
   "source": [
    "#### Ajout des noms de région"
   ]
  },
  {
   "cell_type": "code",
   "execution_count": 5,
   "id": "ba377c20-e184-4efd-a6e9-397f731af03f",
   "metadata": {},
   "outputs": [],
   "source": [
    "df_region = pd.read_csv('departements-france.csv')\n",
    "df_region.rename(columns={'code_departement': 'dep'},inplace=True)\n",
    "df = pd.merge(df, df_region, on ='dep', how ='left')"
   ]
  },
  {
   "cell_type": "code",
   "execution_count": 6,
   "id": "f4c81174-6fd2-49e3-aeaa-1101e5a7fa15",
   "metadata": {},
   "outputs": [
    {
     "data": {
      "text/plain": [
       "(154677, 57)"
      ]
     },
     "execution_count": 6,
     "metadata": {},
     "output_type": "execute_result"
    }
   ],
   "source": [
    "df.shape"
   ]
  },
  {
   "cell_type": "markdown",
   "id": "42ba672b-c379-4868-a198-effa445b0429",
   "metadata": {},
   "source": [
    "#### Créaction de la colonne Date Accident"
   ]
  },
  {
   "cell_type": "code",
   "execution_count": 7,
   "id": "9715b88d-f6b3-4a74-a2d4-2477ad212088",
   "metadata": {},
   "outputs": [],
   "source": [
    "#Changement du type des colonnes pour effectuer les changement\n",
    "df.jour = df.jour.astype(str)\n",
    "df.mois = df.mois.astype(str)\n",
    "df.hrmn = df.hrmn.astype(str)\n",
    "df.an = df.an.astype(str)\n",
    "df.dep = df.dep.astype(str)\n",
    "\n",
    "df['Date Accident'] = ['-'.join(i) for i in zip(df['an'], df['mois'], df['jour'])]\n",
    "df['Date Accident'] = [' '.join(i) for i in zip(df['Date Accident'], df['hrmn'])]\n",
    "\n",
    "df['Date Accident'] = pd.to_datetime(df['Date Accident'])"
   ]
  },
  {
   "cell_type": "markdown",
   "id": "e7ff549d-6af1-43ba-9da6-e6e93a104495",
   "metadata": {},
   "source": [
    "#### Téléchargement de la base finale"
   ]
  },
  {
   "cell_type": "code",
   "execution_count": 10,
   "id": "383e9a73-4c13-4b67-b08a-31502caebc46",
   "metadata": {},
   "outputs": [],
   "source": [
    "df.to_csv('df_final.csv', index=False, sep=';')"
   ]
  },
  {
   "cell_type": "code",
   "execution_count": 16,
   "id": "696768f0-eb96-4080-b3c4-70dc7116a736",
   "metadata": {},
   "outputs": [
    {
     "data": {
      "text/html": [
       "<div>\n",
       "<style scoped>\n",
       "    .dataframe tbody tr th:only-of-type {\n",
       "        vertical-align: middle;\n",
       "    }\n",
       "\n",
       "    .dataframe tbody tr th {\n",
       "        vertical-align: top;\n",
       "    }\n",
       "\n",
       "    .dataframe thead th {\n",
       "        text-align: right;\n",
       "    }\n",
       "</style>\n",
       "<table border=\"1\" class=\"dataframe\">\n",
       "  <thead>\n",
       "    <tr style=\"text-align: right;\">\n",
       "      <th></th>\n",
       "      <th>Num_Acc</th>\n",
       "      <th>jour</th>\n",
       "      <th>mois</th>\n",
       "      <th>an</th>\n",
       "      <th>hrmn</th>\n",
       "      <th>lum</th>\n",
       "      <th>dep</th>\n",
       "      <th>com</th>\n",
       "      <th>agg</th>\n",
       "      <th>int</th>\n",
       "      <th>...</th>\n",
       "      <th>obs</th>\n",
       "      <th>obsm</th>\n",
       "      <th>choc</th>\n",
       "      <th>manv</th>\n",
       "      <th>motor</th>\n",
       "      <th>occutc</th>\n",
       "      <th>nom_departement</th>\n",
       "      <th>code_region</th>\n",
       "      <th>nom_region</th>\n",
       "      <th>Date Accident</th>\n",
       "    </tr>\n",
       "    <tr>\n",
       "      <th>grav</th>\n",
       "      <th></th>\n",
       "      <th></th>\n",
       "      <th></th>\n",
       "      <th></th>\n",
       "      <th></th>\n",
       "      <th></th>\n",
       "      <th></th>\n",
       "      <th></th>\n",
       "      <th></th>\n",
       "      <th></th>\n",
       "      <th></th>\n",
       "      <th></th>\n",
       "      <th></th>\n",
       "      <th></th>\n",
       "      <th></th>\n",
       "      <th></th>\n",
       "      <th></th>\n",
       "      <th></th>\n",
       "      <th></th>\n",
       "      <th></th>\n",
       "      <th></th>\n",
       "    </tr>\n",
       "  </thead>\n",
       "  <tbody>\n",
       "    <tr>\n",
       "      <th>2.0</th>\n",
       "      <td>5744</td>\n",
       "      <td>5744</td>\n",
       "      <td>5744</td>\n",
       "      <td>5744</td>\n",
       "      <td>5744</td>\n",
       "      <td>5744</td>\n",
       "      <td>5744</td>\n",
       "      <td>5744</td>\n",
       "      <td>5744</td>\n",
       "      <td>5744</td>\n",
       "      <td>...</td>\n",
       "      <td>5744</td>\n",
       "      <td>5744</td>\n",
       "      <td>5744</td>\n",
       "      <td>5744</td>\n",
       "      <td>5744</td>\n",
       "      <td>50</td>\n",
       "      <td>5590</td>\n",
       "      <td>5590</td>\n",
       "      <td>5590</td>\n",
       "      <td>5744</td>\n",
       "    </tr>\n",
       "    <tr>\n",
       "      <th>3.0</th>\n",
       "      <td>38868</td>\n",
       "      <td>38868</td>\n",
       "      <td>38868</td>\n",
       "      <td>38868</td>\n",
       "      <td>38868</td>\n",
       "      <td>38868</td>\n",
       "      <td>38868</td>\n",
       "      <td>38868</td>\n",
       "      <td>38868</td>\n",
       "      <td>38868</td>\n",
       "      <td>...</td>\n",
       "      <td>38868</td>\n",
       "      <td>38868</td>\n",
       "      <td>38868</td>\n",
       "      <td>38868</td>\n",
       "      <td>38868</td>\n",
       "      <td>167</td>\n",
       "      <td>37746</td>\n",
       "      <td>37746</td>\n",
       "      <td>37746</td>\n",
       "      <td>38868</td>\n",
       "    </tr>\n",
       "    <tr>\n",
       "      <th>4.0</th>\n",
       "      <td>110065</td>\n",
       "      <td>110065</td>\n",
       "      <td>110065</td>\n",
       "      <td>110065</td>\n",
       "      <td>110065</td>\n",
       "      <td>110065</td>\n",
       "      <td>110065</td>\n",
       "      <td>110065</td>\n",
       "      <td>110065</td>\n",
       "      <td>110065</td>\n",
       "      <td>...</td>\n",
       "      <td>110065</td>\n",
       "      <td>110065</td>\n",
       "      <td>110065</td>\n",
       "      <td>110065</td>\n",
       "      <td>110065</td>\n",
       "      <td>841</td>\n",
       "      <td>108375</td>\n",
       "      <td>108375</td>\n",
       "      <td>108375</td>\n",
       "      <td>110065</td>\n",
       "    </tr>\n",
       "  </tbody>\n",
       "</table>\n",
       "<p>3 rows × 57 columns</p>\n",
       "</div>"
      ],
      "text/plain": [
       "      Num_Acc    jour    mois      an    hrmn     lum     dep     com     agg  \\\n",
       "grav                                                                            \n",
       "2.0      5744    5744    5744    5744    5744    5744    5744    5744    5744   \n",
       "3.0     38868   38868   38868   38868   38868   38868   38868   38868   38868   \n",
       "4.0    110065  110065  110065  110065  110065  110065  110065  110065  110065   \n",
       "\n",
       "         int  ...     obs    obsm    choc    manv   motor  occutc  \\\n",
       "grav          ...                                                   \n",
       "2.0     5744  ...    5744    5744    5744    5744    5744      50   \n",
       "3.0    38868  ...   38868   38868   38868   38868   38868     167   \n",
       "4.0   110065  ...  110065  110065  110065  110065  110065     841   \n",
       "\n",
       "      nom_departement  code_region  nom_region  Date Accident  \n",
       "grav                                                           \n",
       "2.0              5590         5590        5590           5744  \n",
       "3.0             37746        37746       37746          38868  \n",
       "4.0            108375       108375      108375         110065  \n",
       "\n",
       "[3 rows x 57 columns]"
      ]
     },
     "execution_count": 16,
     "metadata": {},
     "output_type": "execute_result"
    }
   ],
   "source": [
    "df.groupby(['grav']).count()"
   ]
  }
 ],
 "metadata": {
  "kernelspec": {
   "display_name": "Python 3 (ipykernel)",
   "language": "python",
   "name": "python3"
  },
  "language_info": {
   "codemirror_mode": {
    "name": "ipython",
    "version": 3
   },
   "file_extension": ".py",
   "mimetype": "text/x-python",
   "name": "python",
   "nbconvert_exporter": "python",
   "pygments_lexer": "ipython3",
   "version": "3.9.7"
  }
 },
 "nbformat": 4,
 "nbformat_minor": 5
}
